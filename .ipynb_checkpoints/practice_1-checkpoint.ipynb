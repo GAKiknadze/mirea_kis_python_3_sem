{
 "cells": [
  {
   "cell_type": "markdown",
   "metadata": {},
   "source": [
    "# Практическое занятие №1\n",
    "\n",
    "Автор: П.Н. Советов, РТУ МИРЭА\n",
    "\n",
    "Выполнил: Г.А. Кикнадзе, ИКБО-19-20"
   ]
  },
  {
   "cell_type": "markdown",
   "metadata": {},
   "source": [
    "## Задача №1\n",
    "### Постановка задачи\n",
    "Запустите IDLE. Проверьте работу интерпретатора на простых арифметических примерах.\n",
    "Научитесь создавать новые программы в редакторе IDLE, сохранять их с расширением `.py`, запускать программы.\n",
    "\n",
    "Сравните интерактивный режим IDLE с IDE для Java или C++. Насколько вам понадобится отладчик? Обсудите с преподавателем."
   ]
  },
  {
   "cell_type": "markdown",
   "metadata": {},
   "source": [
    "### Решение\n",
    "Находим и запускаем IDLE на своем устройстве (в моём случае это Windows 10):\n",
    "\n",
    "![Запуск IDLE](./images/practice_1/Screenshot_1.jpg)\n",
    "\n",
    "Проверяем работу интерпретатора на простых арифметических примерах:\n",
    "\n",
    "![Проверка работы интепретатора](./images/practice_1/Screenshot_2.jpg)\n",
    "\n",
    "Создание нового файла:\n",
    "\n",
    "![Создание нового файла](./images/practice_1/Screenshot_3.jpg)\n",
    "\n",
    "Сохранение с расширением `.py`:\n",
    "\n",
    "![Сохранение файла №1](./images/practice_1/Screenshot_4.jpg)\n",
    "![Сохранение файла №2](./images/practice_1/Screenshot_5.jpg)\n",
    "\n",
    "Запуск программы `test.py`:\n",
    "\n",
    "![Запуск программы №1](./images/practice_1/Screenshot_6.jpg)\n",
    "![Запуск программы №2](./images/practice_1/Screenshot_7.jpg)\n",
    "\n",
    "Языки **Java** и **C++** не предоставляют IDE по умолчанию.\n",
    "Ниже представлены списки наиболее распространенных IDE для языков программирования **Java**, **C/C++**, **Python**:\n",
    "\n",
    "![IDE для Java](./images/practice_1/Screenshot_8.jpg)\n",
    "![IDE для C/C++](./images/practice_1/Screenshot_9.jpg)\n",
    "![IDE для Python](./images/practice_1/Screenshot_10.jpg)"
   ]
  },
  {
   "cell_type": "markdown",
   "metadata": {},
   "source": [
    "## Задача №2\n",
    "### Постановка задачи\n",
    "Выясните, есть ли ограничения в Питоне для вычислений с целыми числами. Придумайте арифметическое выражение, на котором интерпретатор Питона \"зависнет\".\n",
    "\n",
    "А что насчет ограничений чисел с плавающих запятой? Какое максимальное значение вы сумели получить до переполнения?\n",
    "\n",
    "Научитесь работать с документацией по Питону. Найдите в документации встроенную (builtin) арифметическую функцию, которая возвращает не одно, а два значения разом.\n",
    "\n",
    "Запишите число 42 с помощью 10 различных способов, чем разнообразнее, тем лучше. Без арифметики и функций. В любом варианте должно соблюдаться `== 42`."
   ]
  },
  {
   "cell_type": "markdown",
   "metadata": {},
   "source": [
    "### Решение\n",
    "**Арифметические операторы применяемые в Python:**\n",
    "\n",
    "|Оператор|Описание|Приоритет|\n",
    "|-|-|-|\n",
    "|\\+|сложение|2|\n",
    "|\\-|вычитание|2|\n",
    "|\\*|умножение|3|\n",
    "|\\/|деление|3|\n",
    "|\\/\\/|деление по модулю|3|\n",
    "|\\%|остаток от деления|3|\n",
    "|\\*\\*|возведение в степень|4|\n",
    "\n",
    "Сначала мы должны установить, что под формулировкой **\"зависнет\"** подразумевается вывод исключения.\n",
    "\n",
    "#### ArithmeticError\n",
    "Это базовый класс для трех встроенных исключений, которые поднимаются для различных арифметических ошибок: [OverflowError](#OverflowError), [ZeroDivisionError](#ZeroDivisionError), [FloatingPointError](#FloatingPointError).\n",
    "\n",
    "#### OverflowError\n",
    "Исключение `OverflowError` поднимается, когда результат арифметической операции слишком велик для представления. Исключение `ArithmeticError` не может произойти для целых чисел, которые скорее поднимут исключение `MemoryError`. Однако по историческим причинам `OverflowError` иногда вызывается и для целых чисел, которые находятся за пределами требуемого диапазона. Из-за отсутствия стандартизации обработки исключений с плавающей точкой в *языке C*, большинство операций с плавающей точкой не проверяются.\n",
    "```\n",
    "2.31**99999999999999999999 + 2.67**99999999999999999999\n",
    "---------------------------------------------------------------------------\n",
    "OverflowError                             Traceback (most recent call last)\n",
    "<ipython-input-5-5c496e6fce04> in <module>\n",
    "----> 1 2.31**99999999999999999999 + 2.67**99999999999999999999\n",
    "\n",
    "OverflowError: (34, 'Result too large')\n",
    "```\n",
    "\n",
    "#### ZeroDivisionError\n",
    "Исключение `ZeroDivisionError` поднимается, когда второй аргумент операции деления или деления по модулю равен нулю. Соответствующее значение представляет собой строку, указывающую тип операндов и операцию.\n",
    "```\n",
    "1 / 0\n",
    "---------------------------------------------------------------------------\n",
    "ZeroDivisionError                         Traceback (most recent call last)\n",
    "<ipython-input-6-9e1622b385b6> in <module>\n",
    "----> 1 1/0\n",
    "\n",
    "ZeroDivisionError: division by zero\n",
    "```\n",
    "\n",
    "#### FloatingPointError\n",
    "Использовался до версии Python 3.6.15 включительно. Возникает при сбое операции с плавающей запятой. Это исключение определяется всегда, но может быть вызвано только в том случае, если Python настроен с параметром `--with-fpectl`, или символ `WANT_SIGFPE_HANDLER` определен в файле `pyconfig.h`.\n",
    "```\n",
    "0.1 + 0.1 + 0.1 == 0.3\n",
    "---------------------------------------------------------------------------\n",
    "False\n",
    "```\n"
   ]
  },
  {
   "cell_type": "markdown",
   "metadata": {},
   "source": [
    "Чтобы получить максимальное значение, которое может содержать переменная с плавающей точкой, воспользуемся словарем `float_info` из модуля `sys`.\n",
    "```\n",
    "import sys\n",
    "sys.float_info.max\n",
    "---------------------------------------------------------------------------\n",
    "2.2250738585072014e-308\n",
    "```"
   ]
  },
  {
   "cell_type": "markdown",
   "metadata": {},
   "source": [
    "Перейдём на страницу документации [\"Built-in функции\"](https://docs.python.org/3/library/functions.html \"Built-in функции\").\n",
    "\n",
    "Первая арифметическая функция, которая нам попадется `divmod()`.\n",
    "Функция `divmod()` возвращает кортеж, содержащий частное и остаток. Не поддерживает комплексные числа. Со смешанными типами операндов применяются правила для двоичных арифметических операторов.\n",
    "\n",
    "Для целых результат аналогичен `(a // b, a % b)`.\n",
    "\n",
    "Для чисел с плавающей запятой результат аналогичен `(q, a % b)`, где `q` обычно равен `math.floor(a / b)`, однако может может быть и на единицу меньше. Так или иначе, `q * b + a % b` приближено к `a`, если `a % b` не нуль, то имеет тот же знак, что и `b`, и `0 <= abs(a % b) < abs(b)`."
   ]
  },
  {
   "cell_type": "markdown",
   "metadata": {},
   "source": [
    "#### 10 Способов записи числа 42:\n",
    "##### Способ №1\n",
    "```\n",
    "42 == 42\n",
    "---------------------------------------------------------------------------\n",
    "True\n",
    "```\n",
    "\n",
    "##### Способ №2\n",
    "```\n",
    "42.0 == 42\n",
    "---------------------------------------------------------------------------\n",
    "True\n",
    "```\n",
    "\n",
    "##### Способ №3\n",
    "```\n",
    "a = 40\n",
    "a += 2\n",
    "a == 42\n",
    "---------------------------------------------------------------------------\n",
    "True\n",
    "```\n",
    "\n",
    "##### Способ №4\n",
    "```\n",
    "40 | 2 == 42\n",
    "---------------------------------------------------------------------------\n",
    "True\n",
    "```\n",
    "\n",
    "##### Способ №5\n",
    "```\n",
    "40 | ~-3 == 42\n",
    "---------------------------------------------------------------------------\n",
    "True\n",
    "```\n",
    "\n",
    "##### Способ №6\n",
    "```\n",
    "a = 6\n",
    "a *= 7\n",
    "a == 42\n",
    "---------------------------------------------------------------------------\n",
    "True\n",
    "```\n",
    "\n",
    "##### Способ №7\n",
    "```\n",
    "a = 84\n",
    "a /= 2\n",
    "a == 42\n",
    "---------------------------------------------------------------------------\n",
    "True\n",
    "```\n",
    "\n",
    "##### Способ №8\n",
    "```\n",
    "a = 85\n",
    "a //= 2\n",
    "a == 42\n",
    "---------------------------------------------------------------------------\n",
    "True\n",
    "```\n",
    "\n",
    "##### Способ №9\n",
    "```\n",
    "a = 85\n",
    "a %= 43\n",
    "a == 42\n",
    "---------------------------------------------------------------------------\n",
    "True\n",
    "```\n",
    "\n",
    "##### Способ №10\n",
    "```\n",
    "a = 43\n",
    "a -= 1\n",
    "a == 42\n",
    "---------------------------------------------------------------------------\n",
    "True\n",
    "```"
   ]
  },
  {
   "cell_type": "markdown",
   "metadata": {},
   "source": [
    "## Задача №3\n",
    "### Постановка задачи\n",
    "В реализации Питона спрятано несколько \"пасхальных яиц\". С одним из них мы уже сталкивались, это `import this`.\n",
    "Есть как-то связанное с гравитацией. И еще одно, для тех, кто ленится написать даже самую первую программу. И еще одно -- для любителей языков программирования с непохожим на Питон синтаксисом.\n",
    "\n",
    "Удастся ли вам их обнаружить? Можете гуглить."
   ]
  },
  {
   "cell_type": "markdown",
   "metadata": {},
   "source": [
    "### Решение\n",
    "#### Пасхалка №1\n",
    "\n",
    "```\n",
    "import this\n",
    "---------------------------------------------------------------------------\n",
    "The Zen of Python, by Tim Peters\n",
    "\n",
    "Beautiful is better than ugly.\n",
    "Explicit is better than implicit.\n",
    "Simple is better than complex.\n",
    "Complex is better than complicated.\n",
    "Flat is better than nested.\n",
    "Sparse is better than dense.\n",
    "Readability counts.\n",
    "Special cases aren't special enough to break the rules.\n",
    "Although practicality beats purity.\n",
    "Errors should never pass silently.\n",
    "Unless explicitly silenced.\n",
    "In the face of ambiguity, refuse the temptation to guess.\n",
    "There should be one-- and preferably only one --obvious way to do it.\n",
    "Although that way may not be obvious at first unless you're Dutch.\n",
    "Now is better than never.\n",
    "Although never is often better than *right* now.\n",
    "If the implementation is hard to explain, it's a bad idea.\n",
    "If the implementation is easy to explain, it may be a good idea.\n",
    "Namespaces are one honking great idea -- let's do more of those!\n",
    "```\n",
    "\n",
    "#### Пасхалка №2\n",
    "\n",
    "```\n",
    "import antigravity\n",
    "```\n",
    "\n",
    "Происходит redirect на [сайт](https://xkcd.com/353/) с изображением:\n",
    "![](https://imgs.xkcd.com/comics/python.png)\n",
    "\n",
    "#### Пасхалка №3\n",
    "\n",
    "```\n",
    "import __hello__\n",
    "---------------------------------------------------------------------------\n",
    "Hello World!\n",
    "```\n",
    "\n",
    "#### Пасхалка №4\n",
    "\n",
    "```\n",
    "from __future__ import braces\n",
    "---------------------------------------------------------------------------\n",
    "File \"<stdin>\", line 1\n",
    "SyntaxError: not a chance\n",
    "```"
   ]
  },
  {
   "cell_type": "markdown",
   "metadata": {},
   "source": [
    "## Задача №4\n",
    "### Постановка задачи\n",
    "Представим, что в Питоне отсутствует операция умножения. Ее можно заменить сложением. Если мы хотим умножить какое-то число x на 12, то нам понадобится 11 сложений, правильно? Но можно обойтись меньшим числом сложений.\n",
    "\n",
    "Попробуйте составить программы для решения нижеследующих задач.\n",
    "\n",
    "1. [Умножение на 12. 4 сложения.](#Умножение-на-12)\n",
    "1. [Умножение на 16. 4 сложения.](#Умножение-на-16)\n",
    "1. [Умножение на 15. 3 сложения и 2 вычитания.](#Умножение-на-15)\n",
    "1. [Умножение на 29. 6 сложений и одно вычитание.](#Умножение-на-29)\n",
    "\n",
    "Из арифметических операций можно использовать только явно указанные и в указанном количестве. Входным аргументом является переменная x. Унарный минус использовать нельзя.\n",
    "\n",
    "Тело программы должно состоять из линейной последовательности присваиваний. Оформите линейный код решения в виде функции.\n",
    "\n",
    "Приведенные задачи имеют практическое применение в области низкоуровневой оптимизации кода. Даже сегодня существуют процессоры без встроенного блока аппаратного умножения. Кстати, эталонные результаты для всех этих задач были получены автоматически с помощью так называемого синтезатора программ."
   ]
  },
  {
   "cell_type": "markdown",
   "metadata": {},
   "source": [
    "### Решение"
   ]
  },
  {
   "cell_type": "markdown",
   "metadata": {},
   "source": [
    "#### Умножение на 12"
   ]
  },
  {
   "cell_type": "code",
   "execution_count": 1,
   "metadata": {},
   "outputs": [
    {
     "data": {
      "text/plain": [
       "36"
      ]
     },
     "execution_count": 1,
     "metadata": {},
     "output_type": "execute_result"
    }
   ],
   "source": [
    "def mul_by_12(x):\n",
    "    return (x << 1) + x << 2\n",
    "\n",
    "mul_by_12(3)"
   ]
  },
  {
   "cell_type": "markdown",
   "metadata": {},
   "source": [
    "#### Умножение на 16"
   ]
  },
  {
   "cell_type": "code",
   "execution_count": 2,
   "metadata": {},
   "outputs": [
    {
     "data": {
      "text/plain": [
       "48"
      ]
     },
     "execution_count": 2,
     "metadata": {},
     "output_type": "execute_result"
    }
   ],
   "source": [
    "def mul_by_16(x):\n",
    "    return x + x << 3\n",
    "\n",
    "mul_by_16(3)"
   ]
  },
  {
   "cell_type": "markdown",
   "metadata": {},
   "source": [
    "#### Умножение на 15"
   ]
  },
  {
   "cell_type": "code",
   "execution_count": 3,
   "metadata": {},
   "outputs": [
    {
     "data": {
      "text/plain": [
       "45"
      ]
     },
     "execution_count": 3,
     "metadata": {},
     "output_type": "execute_result"
    }
   ],
   "source": [
    "def mul_by_15(x):\n",
    "    return (x << 4) - x\n",
    "\n",
    "mul_by_15(3)"
   ]
  },
  {
   "cell_type": "markdown",
   "metadata": {},
   "source": [
    "#### Умножение на 29"
   ]
  },
  {
   "cell_type": "code",
   "execution_count": 4,
   "metadata": {},
   "outputs": [
    {
     "data": {
      "text/plain": [
       "87"
      ]
     },
     "execution_count": 4,
     "metadata": {},
     "output_type": "execute_result"
    }
   ],
   "source": [
    "def mul_by_29(x):\n",
    "    return (x << 5) + x - (x << 2)\n",
    "\n",
    "mul_by_29(3)"
   ]
  },
  {
   "cell_type": "markdown",
   "metadata": {},
   "source": [
    "## Задача №5\n",
    "### Постановка задачи\n",
    "Рассмотрим следующий код:"
   ]
  },
  {
   "cell_type": "code",
   "execution_count": 5,
   "metadata": {},
   "outputs": [
    {
     "data": {
      "text/plain": [
       "-2"
      ]
     },
     "execution_count": 5,
     "metadata": {},
     "output_type": "execute_result"
    }
   ],
   "source": [
    "(True * 2 + False) * -True"
   ]
  },
  {
   "cell_type": "markdown",
   "metadata": {},
   "source": [
    "Что за странное выражение и странный результат?"
   ]
  },
  {
   "cell_type": "markdown",
   "metadata": {},
   "source": [
    "### Решение\n",
    "Начнем с того, что класс `int` является родительским классом `bool`. Для проверки данного суждения вызовем метод `__subclasses__`, который возвращает список всех тех ссылок на свои непосредственные подклассы."
   ]
  },
  {
   "cell_type": "code",
   "execution_count": 6,
   "metadata": {},
   "outputs": [
    {
     "data": {
      "text/plain": [
       "[bool,\n",
       " <enum 'IntEnum'>,\n",
       " <enum 'IntFlag'>,\n",
       " sre_constants._NamedIntConstant,\n",
       " subprocess.Handle]"
      ]
     },
     "execution_count": 6,
     "metadata": {},
     "output_type": "execute_result"
    }
   ],
   "source": [
    "int.__subclasses__()"
   ]
  },
  {
   "cell_type": "markdown",
   "metadata": {},
   "source": [
    "При использовании арифмитических операторов `True` принимает значение `1`, а `False` принимает значение `0`. Для того чтобы это проверить воспользуемся преобразованием к целому числу в десятичной системе счисления при помощи функции `int()`:"
   ]
  },
  {
   "cell_type": "code",
   "execution_count": 7,
   "metadata": {},
   "outputs": [
    {
     "data": {
      "text/plain": [
       "1"
      ]
     },
     "execution_count": 7,
     "metadata": {},
     "output_type": "execute_result"
    }
   ],
   "source": [
    "int(True)"
   ]
  },
  {
   "cell_type": "code",
   "execution_count": 8,
   "metadata": {},
   "outputs": [
    {
     "data": {
      "text/plain": [
       "0"
      ]
     },
     "execution_count": 8,
     "metadata": {},
     "output_type": "execute_result"
    }
   ],
   "source": [
    "int(False)"
   ]
  },
  {
   "cell_type": "markdown",
   "metadata": {},
   "source": [
    "Давайте последовательно выполним все операции из данного нам примера:\n",
    "\n",
    "| Номер операции | Код на Python | Математическая формула | Результат |\n",
    "|-|-|-|-|\n",
    "| 1 | True * 2 | 1 * 2 | 2 |\n",
    "| 2 | True * 2 + False | 1 * 2 + 0 | 2 |\n",
    "| 3 | -True | -1 | -1 |\n",
    "| 4 | (True * 2 + False) * -True | (1 * 2 + 0) * (-1) | -2 |\n",
    "\n",
    "Как можно заметить результат вычислений получился идентичным результату из постановки задачи."
   ]
  },
  {
   "cell_type": "markdown",
   "metadata": {},
   "source": [
    "## Задача №6\n",
    "### Постановка задачи\n",
    "К сообщениям об ошибках Питона нужно привыкать, в них нет ничего страшного. Давайте специально напишем некорректный код для того, чтобы получить каждое из указанных ниже сообщений об ошибках.\n",
    "\n",
    "1. [SyntaxError: cannot assign to literal](#SyntaxError:-cannot-assign-to-literal)\n",
    "1. [SyntaxError: invalid syntax](#SyntaxError:-invalid-syntax)\n",
    "1. [NameError: name ... is not defined](#NameError:-name-...-is-not-defined)\n",
    "1. [TypeError: unsupported operand type(s) for ...](#TypeError:-unsupported-operand-type(s)-for-...)\n",
    "1. [IndentationError: expected an indented block](#IndentationError:-expected-an-indented-block)\n",
    "1. [ZeroDivisionError: division by zero](#ZeroDivisionError:-division-by-zero)\n",
    "1. [ValueError: math domain error](#ValueError:-math-domain-error)\n",
    "1. [OverflowError: math range error](#OverflowError:-math-range-error)"
   ]
  },
  {
   "cell_type": "markdown",
   "metadata": {},
   "source": [
    "### Решение"
   ]
  },
  {
   "cell_type": "markdown",
   "metadata": {},
   "source": [
    "#### SyntaxError: cannot assign to literal"
   ]
  },
  {
   "cell_type": "code",
   "execution_count": 9,
   "metadata": {},
   "outputs": [
    {
     "ename": "SyntaxError",
     "evalue": "can't assign to literal (<ipython-input-9-cc7d2e5223ed>, line 1)",
     "output_type": "error",
     "traceback": [
      "\u001b[1;36m  File \u001b[1;32m\"<ipython-input-9-cc7d2e5223ed>\"\u001b[1;36m, line \u001b[1;32m1\u001b[0m\n\u001b[1;33m    444 = 'luck'\u001b[0m\n\u001b[1;37m                ^\u001b[0m\n\u001b[1;31mSyntaxError\u001b[0m\u001b[1;31m:\u001b[0m can't assign to literal\n"
     ]
    }
   ],
   "source": [
    "444 = 'luck'"
   ]
  },
  {
   "cell_type": "markdown",
   "metadata": {},
   "source": [
    "#### SyntaxError: invalid syntax"
   ]
  },
  {
   "cell_type": "code",
   "execution_count": 11,
   "metadata": {},
   "outputs": [
    {
     "ename": "SyntaxError",
     "evalue": "invalid syntax (<ipython-input-11-166a42a9f9c3>, line 1)",
     "output_type": "error",
     "traceback": [
      "\u001b[1;36m  File \u001b[1;32m\"<ipython-input-11-166a42a9f9c3>\"\u001b[1;36m, line \u001b[1;32m1\u001b[0m\n\u001b[1;33m    1X = 'bet'\u001b[0m\n\u001b[1;37m     ^\u001b[0m\n\u001b[1;31mSyntaxError\u001b[0m\u001b[1;31m:\u001b[0m invalid syntax\n"
     ]
    }
   ],
   "source": [
    "1X = 'bet'"
   ]
  },
  {
   "cell_type": "markdown",
   "metadata": {},
   "source": [
    "#### NameError: name ... is not defined"
   ]
  },
  {
   "cell_type": "code",
   "execution_count": 12,
   "metadata": {},
   "outputs": [
    {
     "ename": "NameError",
     "evalue": "name 'name' is not defined",
     "output_type": "error",
     "traceback": [
      "\u001b[1;31m---------------------------------------------------------------------------\u001b[0m",
      "\u001b[1;31mNameError\u001b[0m                                 Traceback (most recent call last)",
      "\u001b[1;32m<ipython-input-12-9bc0cb2ed6de>\u001b[0m in \u001b[0;36m<module>\u001b[1;34m\u001b[0m\n\u001b[1;32m----> 1\u001b[1;33m \u001b[0mname\u001b[0m\u001b[1;33m\u001b[0m\u001b[1;33m\u001b[0m\u001b[0m\n\u001b[0m",
      "\u001b[1;31mNameError\u001b[0m: name 'name' is not defined"
     ]
    }
   ],
   "source": [
    "name"
   ]
  },
  {
   "cell_type": "markdown",
   "metadata": {},
   "source": [
    "#### TypeError: unsupported operand type(s) for ..."
   ]
  },
  {
   "cell_type": "code",
   "execution_count": 13,
   "metadata": {},
   "outputs": [
    {
     "ename": "TypeError",
     "evalue": "unsupported operand type(s) for -: 'str' and 'str'",
     "output_type": "error",
     "traceback": [
      "\u001b[1;31m---------------------------------------------------------------------------\u001b[0m",
      "\u001b[1;31mTypeError\u001b[0m                                 Traceback (most recent call last)",
      "\u001b[1;32m<ipython-input-13-e96ccb9e02aa>\u001b[0m in \u001b[0;36m<module>\u001b[1;34m\u001b[0m\n\u001b[1;32m----> 1\u001b[1;33m \u001b[1;34m'dog'\u001b[0m \u001b[1;33m-\u001b[0m \u001b[1;34m'cat'\u001b[0m\u001b[1;33m\u001b[0m\u001b[1;33m\u001b[0m\u001b[0m\n\u001b[0m",
      "\u001b[1;31mTypeError\u001b[0m: unsupported operand type(s) for -: 'str' and 'str'"
     ]
    }
   ],
   "source": [
    "'dog' - 'cat'"
   ]
  },
  {
   "cell_type": "markdown",
   "metadata": {},
   "source": [
    "#### IndentationError: expected an indented block"
   ]
  },
  {
   "cell_type": "code",
   "execution_count": 14,
   "metadata": {},
   "outputs": [
    {
     "ename": "IndentationError",
     "evalue": "expected an indented block (<ipython-input-14-775bd859ef23>, line 2)",
     "output_type": "error",
     "traceback": [
      "\u001b[1;36m  File \u001b[1;32m\"<ipython-input-14-775bd859ef23>\"\u001b[1;36m, line \u001b[1;32m2\u001b[0m\n\u001b[1;33m    print(0)\u001b[0m\n\u001b[1;37m        ^\u001b[0m\n\u001b[1;31mIndentationError\u001b[0m\u001b[1;31m:\u001b[0m expected an indented block\n"
     ]
    }
   ],
   "source": [
    "while 1:\n",
    "print(0)"
   ]
  },
  {
   "cell_type": "markdown",
   "metadata": {},
   "source": [
    "#### ZeroDivisionError: division by zero"
   ]
  },
  {
   "cell_type": "code",
   "execution_count": 15,
   "metadata": {},
   "outputs": [
    {
     "ename": "ZeroDivisionError",
     "evalue": "division by zero",
     "output_type": "error",
     "traceback": [
      "\u001b[1;31m---------------------------------------------------------------------------\u001b[0m",
      "\u001b[1;31mZeroDivisionError\u001b[0m                         Traceback (most recent call last)",
      "\u001b[1;32m<ipython-input-15-adafc2937013>\u001b[0m in \u001b[0;36m<module>\u001b[1;34m\u001b[0m\n\u001b[1;32m----> 1\u001b[1;33m \u001b[1;36m5\u001b[0m \u001b[1;33m/\u001b[0m \u001b[1;36m0\u001b[0m\u001b[1;33m\u001b[0m\u001b[1;33m\u001b[0m\u001b[0m\n\u001b[0m",
      "\u001b[1;31mZeroDivisionError\u001b[0m: division by zero"
     ]
    }
   ],
   "source": [
    "5 / 0"
   ]
  },
  {
   "cell_type": "markdown",
   "metadata": {},
   "source": [
    "#### ValueError: math domain error"
   ]
  },
  {
   "cell_type": "code",
   "execution_count": 16,
   "metadata": {},
   "outputs": [
    {
     "ename": "ValueError",
     "evalue": "math domain error",
     "output_type": "error",
     "traceback": [
      "\u001b[1;31m---------------------------------------------------------------------------\u001b[0m",
      "\u001b[1;31mValueError\u001b[0m                                Traceback (most recent call last)",
      "\u001b[1;32m<ipython-input-16-3f8e825b6ccd>\u001b[0m in \u001b[0;36m<module>\u001b[1;34m\u001b[0m\n\u001b[0;32m      1\u001b[0m \u001b[1;32mfrom\u001b[0m \u001b[0mmath\u001b[0m \u001b[1;32mimport\u001b[0m \u001b[0msqrt\u001b[0m\u001b[1;33m\u001b[0m\u001b[1;33m\u001b[0m\u001b[0m\n\u001b[1;32m----> 2\u001b[1;33m \u001b[0msqrt\u001b[0m\u001b[1;33m(\u001b[0m\u001b[1;33m-\u001b[0m\u001b[1;36m1\u001b[0m\u001b[1;33m)\u001b[0m\u001b[1;33m\u001b[0m\u001b[1;33m\u001b[0m\u001b[0m\n\u001b[0m",
      "\u001b[1;31mValueError\u001b[0m: math domain error"
     ]
    }
   ],
   "source": [
    "from math import sqrt\n",
    "sqrt(-1)"
   ]
  },
  {
   "cell_type": "markdown",
   "metadata": {},
   "source": [
    "#### OverflowError: math range error"
   ]
  },
  {
   "cell_type": "code",
   "execution_count": 17,
   "metadata": {},
   "outputs": [
    {
     "ename": "OverflowError",
     "evalue": "math range error",
     "output_type": "error",
     "traceback": [
      "\u001b[1;31m---------------------------------------------------------------------------\u001b[0m",
      "\u001b[1;31mOverflowError\u001b[0m                             Traceback (most recent call last)",
      "\u001b[1;32m<ipython-input-17-050548b7a1b0>\u001b[0m in \u001b[0;36m<module>\u001b[1;34m\u001b[0m\n\u001b[0;32m      1\u001b[0m \u001b[1;32mfrom\u001b[0m \u001b[0mmath\u001b[0m \u001b[1;32mimport\u001b[0m \u001b[0mexp\u001b[0m\u001b[1;33m\u001b[0m\u001b[1;33m\u001b[0m\u001b[0m\n\u001b[1;32m----> 2\u001b[1;33m \u001b[1;36m1\u001b[0m\u001b[1;33m-\u001b[0m\u001b[0mexp\u001b[0m\u001b[1;33m(\u001b[0m\u001b[1;33m-\u001b[0m\u001b[1;36m4\u001b[0m\u001b[1;33m*\u001b[0m\u001b[1;36m1000000\u001b[0m\u001b[1;33m*\u001b[0m\u001b[1;33m-\u001b[0m\u001b[1;36m0.0641515994108\u001b[0m\u001b[1;33m)\u001b[0m\u001b[1;33m\u001b[0m\u001b[1;33m\u001b[0m\u001b[0m\n\u001b[0m",
      "\u001b[1;31mOverflowError\u001b[0m: math range error"
     ]
    }
   ],
   "source": [
    "from math import exp\n",
    "1-exp(-4*1000000*-0.0641515994108)"
   ]
  },
  {
   "cell_type": "markdown",
   "metadata": {},
   "source": [
    "## Задача №7\n",
    "### Постановка задачи\n",
    "Рассмотрим следующий код:\n",
    "\n",
    "```\n",
    "0.6 + 0.3 == 0.9\n",
    "\n",
    "False```\n",
    "\n",
    "Что здесь произошло? Интерпретатор Питона сломался? Что на самом деле представляют собой 0.6 и 0.3 внутри интерпретатора? Можно ли увидеть их настоящие значения? Обсудите с преподавателем и [поэкспериментируйте](https://float.exposed/0x44bf9400)."
   ]
  },
  {
   "cell_type": "markdown",
   "metadata": {},
   "source": [
    "### Решение\n",
    "Числа с плавающей точкой реализуют абстрактный базовый класс `Real`. Они используются для представления вещественных чисел. Но, из-за того, что компьютерная память не является неограниченным ресурсом, числа с плавающей точкой — **это лишь конечные аппроксимации вещественных чисел**.\n",
    "\n",
    "![](./images/practice_1/Screenshot_11.jpg)\n",
    "\n",
    "Числа с плавающей точкой хранятся в памяти в виде двоичных дробей. Это приводит к появлению некоторых проблем. Например, у исходных чисел $3/5$ и $3/10$ нет конечного представления в виде двоичной дроби.\n",
    "\n",
    "![](./images/practice_1/Screenshot_12.jpg)\n",
    "\n",
    "Другими словами, в компьютере нельзя совершенно точно представить числа 0.6 и 0.3 — если только этот компьютер не обладает бесконечной памятью.\n",
    "\n"
   ]
  },
  {
   "cell_type": "markdown",
   "metadata": {},
   "source": [
    "## Задача №8\n",
    "### Постановка задачи\n",
    "В Питоне можно использовать цепочки операций сравнения. Рассмотрите следующие примеры и попробуйте объяснить код:\n",
    "\n",
    "1. ```\n",
    "x = 5\n",
    "1 < x < 10\n",
    "True```\n",
    "\n",
    "1. ```\n",
    "x = 5\n",
    "1 < (x < 10)\n",
    "False```\n",
    "\n",
    "1. ```\n",
    "1 < True\n",
    "False```\n",
    "\n",
    "1. ```\n",
    "1 < 42 == 42\n",
    "True```"
   ]
  },
  {
   "cell_type": "markdown",
   "metadata": {},
   "source": [
    "### Решение\n",
    "1. Выражение `1 < x < 10` эквивалентно выражению `1 < x and x < 10`. Возвратит **True** только если оба условия `1 < x` и `x < 10` будут выполнены, иначе **False**.\n",
    "\n",
    "1. Условие `1 < (x < 10)` не имеет смысла при любом значении переменной `x`, т.к. `x < 10` может принимать только значение **1** и **0**. `1 < 0` и `1 < 1` будут всегда возвращать **False**.\n",
    "\n",
    "1. Значение **True** равно **1**, отсюда следует, что `1 < 1` значение всегда будет равно **False**. Поэтому выражение `1 < True` не имеет смысла.\n",
    "\n",
    "1. Выражение `1 < 42 == 42` эквивалентно выражению `1 < 42 and 42 == 42`. Т.к. все значения в условии константы и оба условия истинны, условие всегда возвращает **True**."
   ]
  },
  {
   "cell_type": "markdown",
   "metadata": {},
   "source": [
    "## Задача №9\n",
    "### Постановка задачи\n",
    "Некто попытался реализовать \"наивную\" функцию умножения с помощью сложений. К сожалению, в коде много ошибок. Сможете ли вы их исправить?\n",
    "\n",
    "```\n",
    "def naive_mul(x, y):\n",
    "    r = 1;\n",
    "    for i in range(0, y - 1)\n",
    "    x = x + r;\n",
    "    end\n",
    "\n",
    "naive_mul(10, 15)\n",
    "```\n",
    "\n",
    "Добавьте к `naive_mul` автоматическое тестирование для проверки обоих аргументов в диапазоне от 0 до 100. Сравнивайте с встроенным умножением, используя конструкцию `assert`."
   ]
  },
  {
   "cell_type": "markdown",
   "metadata": {},
   "source": [
    "### Решение"
   ]
  },
  {
   "cell_type": "code",
   "execution_count": 31,
   "metadata": {},
   "outputs": [],
   "source": [
    "def naive_mull(x, y, minimum=0, maximum=100):\n",
    "    assert minimum <= x <= maximum\n",
    "    assert minimum <= y <= maximum\n",
    "    r = x\n",
    "    for i in range(1, y):\n",
    "        x += r\n",
    "    return x\n",
    "\n",
    "assert naive_mull(10, 15) == 10 * 15"
   ]
  },
  {
   "cell_type": "markdown",
   "metadata": {},
   "source": [
    "## Задача №10\n",
    "### Постановка задачи\n",
    "Существует старинный метод умножения по методу русского крестьянина. Разобрать его проще на примере.\n",
    "\n",
    "Предположим, мы хотим перемножить 10 и 15:\n",
    "    \n",
    "| 10 | 15  |\n",
    "|----|-----|\n",
    "| **5**  | 30  |\n",
    "| 2  | 60  |\n",
    "| **1**  | 120 |\n",
    "\n",
    "В первом столбце последовательно записывают результаты деления на 2 с отбрасыванием остатка. Во втором столбце находятся результаты умножения на 2. Отмечаем нечетные числа в первом столбце. Складываем те числа в правом столбце, которые стоят напротив отмеченных ранее чисел. То есть 30 + 120 = 150. В нашем случае мы не учитывали исходные числа при сложении, но учитывать их, вообще говоря, может быть нужно.\n",
    "\n",
    "В этом алгоритме используются лишь простейшие операции: умножение на 2, целочисленное деление на 2, проверка на нечетность и сложение. Эти операции соответствуют тем элементарным операциям, которые эффективно выполняет любой процессор. Сам же алгоритм, несмотря на кажущуюся необычность, является вариантом умножения в столбик при использовании двоичного представления чисел:\n",
    "\n",
    "```\n",
    "   1111 \n",
    "   1010 *\n",
    "   ----\n",
    "   0000\n",
    "  1111\n",
    " 0000\n",
    "1111\n",
    "```\n",
    "Задачи:\n",
    "\n",
    "1. Реализуйте функцию `fast_mul` в соответствии с алгоритмом двоичного умножения в столбик (без рекурсии). Добавьте автоматическое тестирование, как в случае с `naive_mul`.\n",
    "1. Реализуйте аналогичную функцию `fast_pow` для возведения в степень. Решение необходимо с помощью небольших модификаций предыдущего решения."
   ]
  },
  {
   "cell_type": "markdown",
   "metadata": {},
   "source": [
    "### Решение"
   ]
  },
  {
   "cell_type": "code",
   "execution_count": 61,
   "metadata": {},
   "outputs": [],
   "source": [
    "def fast_mul(x, y):\n",
    "    res = 0\n",
    "    while y:\n",
    "        if y % 2:\n",
    "            res += x\n",
    "        x *= 2\n",
    "        y //= 2\n",
    "    return res\n",
    "\n",
    "assert fast_mul(10, 15) == 10 * 15"
   ]
  },
  {
   "cell_type": "code",
   "execution_count": 65,
   "metadata": {},
   "outputs": [],
   "source": [
    "def fast_pow(x, y):\n",
    "    assert 0 <= y\n",
    "    res = 1\n",
    "    while y:\n",
    "        if y % 2:\n",
    "            res *= x\n",
    "        x *= x\n",
    "        y //= 2\n",
    "    return res\n",
    "\n",
    "assert fast_pow(-2, 3) == -2**3"
   ]
  },
  {
   "cell_type": "markdown",
   "metadata": {},
   "source": [
    "## Задача №11\n",
    "### Постановка задачи\n",
    "Реализуйте синтезатор программ `fast_mul_gen(y)` для примеров из задачи 4. Воспользуйтесь ранее полученным кодом `fast_mul`. Ваша функция должна выдать текст функции `f(x)` (умножение на ранее заданный `y`), тело которой состоит из некоторого числа присваиваний. Для вывода функции используйте `print`. Добавьте автоматическое тестирование. Объясните, почему в общем случае у вас получается большее количество сложений, чем в примерах из задачи 4."
   ]
  },
  {
   "cell_type": "markdown",
   "metadata": {},
   "source": [
    "### Решение"
   ]
  },
  {
   "cell_type": "code",
   "execution_count": 74,
   "metadata": {},
   "outputs": [
    {
     "name": "stdout",
     "output_type": "stream",
     "text": [
      "\n",
      "def f(x, 12):\n",
      "    res = 0\n",
      "    while y:\n",
      "        if y % 2:\n",
      "            res += x\n",
      "        x *= 2\n",
      "        y //= 2\n",
      "    return res\n",
      "\n"
     ]
    }
   ],
   "source": [
    "def fast_mul_gen(y):\n",
    "    return f'''\n",
    "def f(x, {y}):\n",
    "    res = 0\n",
    "    while y:\n",
    "        if y % 2:\n",
    "            res += x\n",
    "        x *= 2\n",
    "        y //= 2\n",
    "    return res\n",
    "'''\n",
    "\n",
    "print(fast_mul_gen(12))"
   ]
  },
  {
   "cell_type": "markdown",
   "metadata": {},
   "source": [
    "**Задача 12**"
   ]
  },
  {
   "cell_type": "markdown",
   "metadata": {},
   "source": [
    "Скачайте игру [DandyBot](https://github.com/true-grue/DandyBot).\n",
    "Код для своего игрока записывается в файле user_bot.py. Игра запускается с помощью main.py.\n",
    "\n",
    "Вот простой пример содержимого user_bot.py:\n",
    "\n",
    "```Python\n",
    "def script(check, x, y):\n",
    "    return 'right'\n",
    "```\n",
    "\n",
    "Игровая логика записывается исключительно в теле функции `script`. В нашем случае игрок будет постоянно двигаться вправо.\n",
    "\n",
    "Полный список действий, которые можно возвращать из функции `script`, задающей \"интеллект\" игрока:\n",
    "\n",
    "* `'up'`. Двигаться вверх на клетку.\n",
    "* `'down'`. Двигаться вниз на клетку.\n",
    "* `'left'`. Двигаться влево на клетку.\n",
    "* `'right'`. Двигаться вправо на клетку.\n",
    "* `'pass'`. Ничего не делать.\n",
    "* `'take'`. Взять золото.\n",
    "\n",
    "Для изучения среды есть функция `check`:\n",
    "\n",
    "* `check('player', x, y)`. `True`, если какой-то игрок в позиции (x, y).\n",
    "* `check('gold', x , y)`. Если золото в позиции (x, y), то вернуть его количество, иначе вернуть 0.\n",
    "* `check('wall', x, y)`. `True`, если стена в позиции (x, y).\n",
    "* `check('empty', x, y)`. `True`, если пусто в позиции (x, y).\n",
    "* `check('level')`. Вернуть номер текущего уровня. \n",
    "\n",
    "Ваша задача — пройти 4 уровня. Дополнительно устанавливаемыми библиотеками и глобальными данными пользоваться нельзя.\n",
    "\n",
    "Если игра Вам показалась слишком простой, то попробуйте ее улучшить: упростите код, добавьте новые функции, уровни."
   ]
  }
 ],
 "metadata": {
  "kernelspec": {
   "display_name": "Python 3",
   "language": "python",
   "name": "python3"
  },
  "language_info": {
   "codemirror_mode": {
    "name": "ipython",
    "version": 3
   },
   "file_extension": ".py",
   "mimetype": "text/x-python",
   "name": "python",
   "nbconvert_exporter": "python",
   "pygments_lexer": "ipython3",
   "version": "3.7.6"
  }
 },
 "nbformat": 4,
 "nbformat_minor": 4
}
